{
  "nbformat": 4,
  "nbformat_minor": 0,
  "metadata": {
    "colab": {
      "name": "pandas_p03.ipynb",
      "provenance": [],
      "authorship_tag": "ABX9TyMs75bqbtmZGHcarW0anpk2"
    },
    "kernelspec": {
      "name": "python3",
      "display_name": "Python 3"
    }
  },
  "cells": [
    {
      "cell_type": "code",
      "metadata": {
        "id": "prBpP2M7nZkL"
      },
      "source": [
        "import numpy as np\r\n",
        "import pandas as pd\r\n",
        "\r\n",
        "from pandas import Series, DataFrame"
      ],
      "execution_count": 1,
      "outputs": []
    },
    {
      "cell_type": "code",
      "metadata": {
        "colab": {
          "base_uri": "https://localhost:8080/"
        },
        "id": "mc2tUxCsRKsF",
        "outputId": "6f3f70eb-f81a-4ac2-bd3f-72249f891547"
      },
      "source": [
        "#encontrando os valores em branco\r\n",
        "#NaN - not a number\r\n",
        "em_branco = np.nan\r\n",
        "\r\n",
        "serie = Series(['linha 1','linha 2', em_branco, 'linha 4', 'linha 5', 'linha 6', em_branco, 'linha 8'])\r\n",
        "serie"
      ],
      "execution_count": 2,
      "outputs": [
        {
          "output_type": "execute_result",
          "data": {
            "text/plain": [
              "0    linha 1\n",
              "1    linha 2\n",
              "2        NaN\n",
              "3    linha 4\n",
              "4    linha 5\n",
              "5    linha 6\n",
              "6        NaN\n",
              "7    linha 8\n",
              "dtype: object"
            ]
          },
          "metadata": {
            "tags": []
          },
          "execution_count": 2
        }
      ]
    },
    {
      "cell_type": "code",
      "metadata": {
        "colab": {
          "base_uri": "https://localhost:8080/"
        },
        "id": "ERldLG7mR4FH",
        "outputId": "a147ea93-3e4d-4441-8460-eae27e349d2e"
      },
      "source": [
        "serie.isnull()"
      ],
      "execution_count": 3,
      "outputs": [
        {
          "output_type": "execute_result",
          "data": {
            "text/plain": [
              "0    False\n",
              "1    False\n",
              "2     True\n",
              "3    False\n",
              "4    False\n",
              "5    False\n",
              "6     True\n",
              "7    False\n",
              "dtype: bool"
            ]
          },
          "metadata": {
            "tags": []
          },
          "execution_count": 3
        }
      ]
    },
    {
      "cell_type": "code",
      "metadata": {
        "colab": {
          "base_uri": "https://localhost:8080/",
          "height": 227
        },
        "id": "eIlV4ufuSBQm",
        "outputId": "eade6291-45ea-462f-a2e7-b029e77b897a"
      },
      "source": [
        "#preenchendo valores em branco\r\n",
        "\r\n",
        "np.random.seed(25)\r\n",
        "df = DataFrame(np.random.rand(36).reshape((6,6)))\r\n",
        "df"
      ],
      "execution_count": 4,
      "outputs": [
        {
          "output_type": "execute_result",
          "data": {
            "text/html": [
              "<div>\n",
              "<style scoped>\n",
              "    .dataframe tbody tr th:only-of-type {\n",
              "        vertical-align: middle;\n",
              "    }\n",
              "\n",
              "    .dataframe tbody tr th {\n",
              "        vertical-align: top;\n",
              "    }\n",
              "\n",
              "    .dataframe thead th {\n",
              "        text-align: right;\n",
              "    }\n",
              "</style>\n",
              "<table border=\"1\" class=\"dataframe\">\n",
              "  <thead>\n",
              "    <tr style=\"text-align: right;\">\n",
              "      <th></th>\n",
              "      <th>0</th>\n",
              "      <th>1</th>\n",
              "      <th>2</th>\n",
              "      <th>3</th>\n",
              "      <th>4</th>\n",
              "      <th>5</th>\n",
              "    </tr>\n",
              "  </thead>\n",
              "  <tbody>\n",
              "    <tr>\n",
              "      <th>0</th>\n",
              "      <td>0.870124</td>\n",
              "      <td>0.582277</td>\n",
              "      <td>0.278839</td>\n",
              "      <td>0.185911</td>\n",
              "      <td>0.411100</td>\n",
              "      <td>0.117376</td>\n",
              "    </tr>\n",
              "    <tr>\n",
              "      <th>1</th>\n",
              "      <td>0.684969</td>\n",
              "      <td>0.437611</td>\n",
              "      <td>0.556229</td>\n",
              "      <td>0.367080</td>\n",
              "      <td>0.402366</td>\n",
              "      <td>0.113041</td>\n",
              "    </tr>\n",
              "    <tr>\n",
              "      <th>2</th>\n",
              "      <td>0.447031</td>\n",
              "      <td>0.585445</td>\n",
              "      <td>0.161985</td>\n",
              "      <td>0.520719</td>\n",
              "      <td>0.326051</td>\n",
              "      <td>0.699186</td>\n",
              "    </tr>\n",
              "    <tr>\n",
              "      <th>3</th>\n",
              "      <td>0.366395</td>\n",
              "      <td>0.836375</td>\n",
              "      <td>0.481343</td>\n",
              "      <td>0.516502</td>\n",
              "      <td>0.383048</td>\n",
              "      <td>0.997541</td>\n",
              "    </tr>\n",
              "    <tr>\n",
              "      <th>4</th>\n",
              "      <td>0.514244</td>\n",
              "      <td>0.559053</td>\n",
              "      <td>0.034450</td>\n",
              "      <td>0.719930</td>\n",
              "      <td>0.421004</td>\n",
              "      <td>0.436935</td>\n",
              "    </tr>\n",
              "    <tr>\n",
              "      <th>5</th>\n",
              "      <td>0.281701</td>\n",
              "      <td>0.900274</td>\n",
              "      <td>0.669612</td>\n",
              "      <td>0.456069</td>\n",
              "      <td>0.289804</td>\n",
              "      <td>0.525819</td>\n",
              "    </tr>\n",
              "  </tbody>\n",
              "</table>\n",
              "</div>"
            ],
            "text/plain": [
              "          0         1         2         3         4         5\n",
              "0  0.870124  0.582277  0.278839  0.185911  0.411100  0.117376\n",
              "1  0.684969  0.437611  0.556229  0.367080  0.402366  0.113041\n",
              "2  0.447031  0.585445  0.161985  0.520719  0.326051  0.699186\n",
              "3  0.366395  0.836375  0.481343  0.516502  0.383048  0.997541\n",
              "4  0.514244  0.559053  0.034450  0.719930  0.421004  0.436935\n",
              "5  0.281701  0.900274  0.669612  0.456069  0.289804  0.525819"
            ]
          },
          "metadata": {
            "tags": []
          },
          "execution_count": 4
        }
      ]
    },
    {
      "cell_type": "code",
      "metadata": {
        "id": "TnnYex9ZSV-E"
      },
      "source": [
        "df.loc[1:5 , 0] = em_branco\r\n"
      ],
      "execution_count": 10,
      "outputs": []
    },
    {
      "cell_type": "code",
      "metadata": {
        "colab": {
          "base_uri": "https://localhost:8080/",
          "height": 227
        },
        "id": "DOlKJdS6SuKP",
        "outputId": "b3d9aafe-8371-4329-8b93-249679dbc593"
      },
      "source": [
        "df.loc[1:4 , 5] = em_branco\r\n",
        "df"
      ],
      "execution_count": 11,
      "outputs": [
        {
          "output_type": "execute_result",
          "data": {
            "text/html": [
              "<div>\n",
              "<style scoped>\n",
              "    .dataframe tbody tr th:only-of-type {\n",
              "        vertical-align: middle;\n",
              "    }\n",
              "\n",
              "    .dataframe tbody tr th {\n",
              "        vertical-align: top;\n",
              "    }\n",
              "\n",
              "    .dataframe thead th {\n",
              "        text-align: right;\n",
              "    }\n",
              "</style>\n",
              "<table border=\"1\" class=\"dataframe\">\n",
              "  <thead>\n",
              "    <tr style=\"text-align: right;\">\n",
              "      <th></th>\n",
              "      <th>0</th>\n",
              "      <th>1</th>\n",
              "      <th>2</th>\n",
              "      <th>3</th>\n",
              "      <th>4</th>\n",
              "      <th>5</th>\n",
              "    </tr>\n",
              "  </thead>\n",
              "  <tbody>\n",
              "    <tr>\n",
              "      <th>0</th>\n",
              "      <td>0.870124</td>\n",
              "      <td>0.582277</td>\n",
              "      <td>0.278839</td>\n",
              "      <td>0.185911</td>\n",
              "      <td>0.411100</td>\n",
              "      <td>0.117376</td>\n",
              "    </tr>\n",
              "    <tr>\n",
              "      <th>1</th>\n",
              "      <td>NaN</td>\n",
              "      <td>0.437611</td>\n",
              "      <td>0.556229</td>\n",
              "      <td>0.367080</td>\n",
              "      <td>0.402366</td>\n",
              "      <td>NaN</td>\n",
              "    </tr>\n",
              "    <tr>\n",
              "      <th>2</th>\n",
              "      <td>NaN</td>\n",
              "      <td>0.585445</td>\n",
              "      <td>0.161985</td>\n",
              "      <td>0.520719</td>\n",
              "      <td>0.326051</td>\n",
              "      <td>NaN</td>\n",
              "    </tr>\n",
              "    <tr>\n",
              "      <th>3</th>\n",
              "      <td>NaN</td>\n",
              "      <td>0.836375</td>\n",
              "      <td>0.481343</td>\n",
              "      <td>0.516502</td>\n",
              "      <td>0.383048</td>\n",
              "      <td>NaN</td>\n",
              "    </tr>\n",
              "    <tr>\n",
              "      <th>4</th>\n",
              "      <td>NaN</td>\n",
              "      <td>0.559053</td>\n",
              "      <td>0.034450</td>\n",
              "      <td>0.719930</td>\n",
              "      <td>0.421004</td>\n",
              "      <td>NaN</td>\n",
              "    </tr>\n",
              "    <tr>\n",
              "      <th>5</th>\n",
              "      <td>NaN</td>\n",
              "      <td>0.900274</td>\n",
              "      <td>0.669612</td>\n",
              "      <td>0.456069</td>\n",
              "      <td>0.289804</td>\n",
              "      <td>0.525819</td>\n",
              "    </tr>\n",
              "  </tbody>\n",
              "</table>\n",
              "</div>"
            ],
            "text/plain": [
              "          0         1         2         3         4         5\n",
              "0  0.870124  0.582277  0.278839  0.185911  0.411100  0.117376\n",
              "1       NaN  0.437611  0.556229  0.367080  0.402366       NaN\n",
              "2       NaN  0.585445  0.161985  0.520719  0.326051       NaN\n",
              "3       NaN  0.836375  0.481343  0.516502  0.383048       NaN\n",
              "4       NaN  0.559053  0.034450  0.719930  0.421004       NaN\n",
              "5       NaN  0.900274  0.669612  0.456069  0.289804  0.525819"
            ]
          },
          "metadata": {
            "tags": []
          },
          "execution_count": 11
        }
      ]
    },
    {
      "cell_type": "code",
      "metadata": {
        "colab": {
          "base_uri": "https://localhost:8080/",
          "height": 227
        },
        "id": "CADYfKwrTCVj",
        "outputId": "5b5e3cd9-d14c-4de6-d29b-d5b37feb07d9"
      },
      "source": [
        "#preenchendo o que está NaN com zero.\r\n",
        "\r\n",
        "df_preenchido = df.fillna(0)\r\n",
        "\r\n",
        "df_preenchido"
      ],
      "execution_count": 13,
      "outputs": [
        {
          "output_type": "execute_result",
          "data": {
            "text/html": [
              "<div>\n",
              "<style scoped>\n",
              "    .dataframe tbody tr th:only-of-type {\n",
              "        vertical-align: middle;\n",
              "    }\n",
              "\n",
              "    .dataframe tbody tr th {\n",
              "        vertical-align: top;\n",
              "    }\n",
              "\n",
              "    .dataframe thead th {\n",
              "        text-align: right;\n",
              "    }\n",
              "</style>\n",
              "<table border=\"1\" class=\"dataframe\">\n",
              "  <thead>\n",
              "    <tr style=\"text-align: right;\">\n",
              "      <th></th>\n",
              "      <th>0</th>\n",
              "      <th>1</th>\n",
              "      <th>2</th>\n",
              "      <th>3</th>\n",
              "      <th>4</th>\n",
              "      <th>5</th>\n",
              "    </tr>\n",
              "  </thead>\n",
              "  <tbody>\n",
              "    <tr>\n",
              "      <th>0</th>\n",
              "      <td>0.870124</td>\n",
              "      <td>0.582277</td>\n",
              "      <td>0.278839</td>\n",
              "      <td>0.185911</td>\n",
              "      <td>0.411100</td>\n",
              "      <td>0.117376</td>\n",
              "    </tr>\n",
              "    <tr>\n",
              "      <th>1</th>\n",
              "      <td>0.000000</td>\n",
              "      <td>0.437611</td>\n",
              "      <td>0.556229</td>\n",
              "      <td>0.367080</td>\n",
              "      <td>0.402366</td>\n",
              "      <td>0.000000</td>\n",
              "    </tr>\n",
              "    <tr>\n",
              "      <th>2</th>\n",
              "      <td>0.000000</td>\n",
              "      <td>0.585445</td>\n",
              "      <td>0.161985</td>\n",
              "      <td>0.520719</td>\n",
              "      <td>0.326051</td>\n",
              "      <td>0.000000</td>\n",
              "    </tr>\n",
              "    <tr>\n",
              "      <th>3</th>\n",
              "      <td>0.000000</td>\n",
              "      <td>0.836375</td>\n",
              "      <td>0.481343</td>\n",
              "      <td>0.516502</td>\n",
              "      <td>0.383048</td>\n",
              "      <td>0.000000</td>\n",
              "    </tr>\n",
              "    <tr>\n",
              "      <th>4</th>\n",
              "      <td>0.000000</td>\n",
              "      <td>0.559053</td>\n",
              "      <td>0.034450</td>\n",
              "      <td>0.719930</td>\n",
              "      <td>0.421004</td>\n",
              "      <td>0.000000</td>\n",
              "    </tr>\n",
              "    <tr>\n",
              "      <th>5</th>\n",
              "      <td>0.000000</td>\n",
              "      <td>0.900274</td>\n",
              "      <td>0.669612</td>\n",
              "      <td>0.456069</td>\n",
              "      <td>0.289804</td>\n",
              "      <td>0.525819</td>\n",
              "    </tr>\n",
              "  </tbody>\n",
              "</table>\n",
              "</div>"
            ],
            "text/plain": [
              "          0         1         2         3         4         5\n",
              "0  0.870124  0.582277  0.278839  0.185911  0.411100  0.117376\n",
              "1  0.000000  0.437611  0.556229  0.367080  0.402366  0.000000\n",
              "2  0.000000  0.585445  0.161985  0.520719  0.326051  0.000000\n",
              "3  0.000000  0.836375  0.481343  0.516502  0.383048  0.000000\n",
              "4  0.000000  0.559053  0.034450  0.719930  0.421004  0.000000\n",
              "5  0.000000  0.900274  0.669612  0.456069  0.289804  0.525819"
            ]
          },
          "metadata": {
            "tags": []
          },
          "execution_count": 13
        }
      ]
    },
    {
      "cell_type": "code",
      "metadata": {
        "colab": {
          "base_uri": "https://localhost:8080/"
        },
        "id": "GeKuA2CKTRo6",
        "outputId": "7307d3a6-9fae-4e41-e7ba-262c53f0d1d8"
      },
      "source": [
        "dicio = {0: 0.5, 5: 1.25}\r\n",
        "dicio\r\n",
        "\r\n",
        "#coluna 0 recebe o valor 0.1, coluna 5 recebe o valor 1.25"
      ],
      "execution_count": 18,
      "outputs": [
        {
          "output_type": "execute_result",
          "data": {
            "text/plain": [
              "{0: 0.5, 5: 1.25}"
            ]
          },
          "metadata": {
            "tags": []
          },
          "execution_count": 18
        }
      ]
    },
    {
      "cell_type": "code",
      "metadata": {
        "colab": {
          "base_uri": "https://localhost:8080/",
          "height": 227
        },
        "id": "NLxB7WFdTbPN",
        "outputId": "20b62a5e-99ed-4a27-8787-5a1c34a831ed"
      },
      "source": [
        "df_preenchido = df.fillna(dicio)\r\n",
        "df_preenchido"
      ],
      "execution_count": 19,
      "outputs": [
        {
          "output_type": "execute_result",
          "data": {
            "text/html": [
              "<div>\n",
              "<style scoped>\n",
              "    .dataframe tbody tr th:only-of-type {\n",
              "        vertical-align: middle;\n",
              "    }\n",
              "\n",
              "    .dataframe tbody tr th {\n",
              "        vertical-align: top;\n",
              "    }\n",
              "\n",
              "    .dataframe thead th {\n",
              "        text-align: right;\n",
              "    }\n",
              "</style>\n",
              "<table border=\"1\" class=\"dataframe\">\n",
              "  <thead>\n",
              "    <tr style=\"text-align: right;\">\n",
              "      <th></th>\n",
              "      <th>0</th>\n",
              "      <th>1</th>\n",
              "      <th>2</th>\n",
              "      <th>3</th>\n",
              "      <th>4</th>\n",
              "      <th>5</th>\n",
              "    </tr>\n",
              "  </thead>\n",
              "  <tbody>\n",
              "    <tr>\n",
              "      <th>0</th>\n",
              "      <td>0.870124</td>\n",
              "      <td>0.582277</td>\n",
              "      <td>0.278839</td>\n",
              "      <td>0.185911</td>\n",
              "      <td>0.411100</td>\n",
              "      <td>0.117376</td>\n",
              "    </tr>\n",
              "    <tr>\n",
              "      <th>1</th>\n",
              "      <td>0.500000</td>\n",
              "      <td>0.437611</td>\n",
              "      <td>0.556229</td>\n",
              "      <td>0.367080</td>\n",
              "      <td>0.402366</td>\n",
              "      <td>1.250000</td>\n",
              "    </tr>\n",
              "    <tr>\n",
              "      <th>2</th>\n",
              "      <td>0.500000</td>\n",
              "      <td>0.585445</td>\n",
              "      <td>0.161985</td>\n",
              "      <td>0.520719</td>\n",
              "      <td>0.326051</td>\n",
              "      <td>1.250000</td>\n",
              "    </tr>\n",
              "    <tr>\n",
              "      <th>3</th>\n",
              "      <td>0.500000</td>\n",
              "      <td>0.836375</td>\n",
              "      <td>0.481343</td>\n",
              "      <td>0.516502</td>\n",
              "      <td>0.383048</td>\n",
              "      <td>1.250000</td>\n",
              "    </tr>\n",
              "    <tr>\n",
              "      <th>4</th>\n",
              "      <td>0.500000</td>\n",
              "      <td>0.559053</td>\n",
              "      <td>0.034450</td>\n",
              "      <td>0.719930</td>\n",
              "      <td>0.421004</td>\n",
              "      <td>1.250000</td>\n",
              "    </tr>\n",
              "    <tr>\n",
              "      <th>5</th>\n",
              "      <td>0.500000</td>\n",
              "      <td>0.900274</td>\n",
              "      <td>0.669612</td>\n",
              "      <td>0.456069</td>\n",
              "      <td>0.289804</td>\n",
              "      <td>0.525819</td>\n",
              "    </tr>\n",
              "  </tbody>\n",
              "</table>\n",
              "</div>"
            ],
            "text/plain": [
              "          0         1         2         3         4         5\n",
              "0  0.870124  0.582277  0.278839  0.185911  0.411100  0.117376\n",
              "1  0.500000  0.437611  0.556229  0.367080  0.402366  1.250000\n",
              "2  0.500000  0.585445  0.161985  0.520719  0.326051  1.250000\n",
              "3  0.500000  0.836375  0.481343  0.516502  0.383048  1.250000\n",
              "4  0.500000  0.559053  0.034450  0.719930  0.421004  1.250000\n",
              "5  0.500000  0.900274  0.669612  0.456069  0.289804  0.525819"
            ]
          },
          "metadata": {
            "tags": []
          },
          "execution_count": 19
        }
      ]
    }
  ]
}